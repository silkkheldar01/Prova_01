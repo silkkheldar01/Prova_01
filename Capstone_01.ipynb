{
 "cells": [
  {
   "cell_type": "markdown",
   "metadata": {},
   "source": [
    "## Capstone 1\n",
    "To import the dataset I have simply copied the table from wikipedia into excel and save it as a csv file"
   ]
  },
  {
   "cell_type": "code",
   "execution_count": null,
   "metadata": {},
   "outputs": [],
   "source": [
    "import pandas as pd\n",
    "import numpy as np\n",
    "import matplotlib.pyplot as plt\n",
    "# from IPython.core.interactiveshell import InteractiveShell\n",
    "# InteractiveShell.ast_node_interactivity = \"all\"\n",
    "from jupyterthemes import jtplot\n",
    "jtplot.style(theme='onedork')\n",
    "#%matplotlib notebook\n",
    "%matplotlib inline\n",
    "import folium"
   ]
  },
  {
   "cell_type": "markdown",
   "metadata": {},
   "source": [
    "## Read and check the dataset"
   ]
  },
  {
   "cell_type": "code",
   "execution_count": 29,
   "metadata": {},
   "outputs": [
    {
     "name": "stdout",
     "output_type": "stream",
     "text": [
      "  Postcode           Borough     Neighbourhood\n",
      "0      M1A      Not assigned      Not assigned\n",
      "1      M2A      Not assigned      Not assigned\n",
      "2      M3A        North York         Parkwoods\n",
      "3      M4A        North York  Victoria Village\n",
      "4      M5A  Downtown Toronto      Harbourfront\n",
      "(288, 3)\n",
      "Index(['Postcode', 'Borough', 'Neighbourhood'], dtype='object')\n"
     ]
    }
   ],
   "source": [
    "df1=pd.read_csv(\"C:\\\\Users\\\\Piero\\\\Documents\\\\Data_Analysis_Courses\\\\Data Science\\\\07_Capstone\\\\Input_Table_01.csv\")\n",
    "print(df1.head())\n",
    "print(df1.shape)\n",
    "print(df1.columns)"
   ]
  },
  {
   "cell_type": "markdown",
   "metadata": {},
   "source": [
    "### Eliminating the rows that don't have an assigned Borough and assigning the name of the Borough to those remaining rows with a not assigned Neighbourhood"
   ]
  },
  {
   "cell_type": "code",
   "execution_count": 34,
   "metadata": {},
   "outputs": [
    {
     "name": "stdout",
     "output_type": "stream",
     "text": [
      "Before Splitting ['Central Toronto' 'Downtown Toronto' 'East Toronto' 'East York'\n",
      " 'Etobicoke' 'Mississauga' 'North York' 'Not assigned' \"Queen's Park\"\n",
      " 'Scarborough' 'West Toronto' 'York']\n",
      "Before Splitting ['Central Toronto' 'Downtown Toronto' 'East Toronto' 'East York'\n",
      " 'Etobicoke' 'Mississauga' 'North York' \"Queen's Park\" 'Scarborough'\n",
      " 'West Toronto' 'York']\n",
      "size of df2:  (211, 3)\n",
      "Before Modification   Postcode       Borough Neighbourhood\n",
      "8      M7A  Queen's Park  Not assigned\n",
      "After Modification   Postcode       Borough Neighbourhood\n",
      "8      M7A  Queen's Park  Queen's Park\n"
     ]
    },
    {
     "name": "stderr",
     "output_type": "stream",
     "text": [
      "C:\\Users\\Piero\\Anaconda3\\lib\\site-packages\\ipykernel_launcher.py:12: SettingWithCopyWarning: \n",
      "A value is trying to be set on a copy of a slice from a DataFrame\n",
      "\n",
      "See the caveats in the documentation: http://pandas.pydata.org/pandas-docs/stable/indexing.html#indexing-view-versus-copy\n",
      "  if sys.path[0] == '':\n"
     ]
    }
   ],
   "source": [
    "print('Before Splitting',np.unique(df1['Borough'].values))\n",
    "df2=df1[df1['Borough']!='Not assigned']\n",
    "print('Before Splitting',np.unique(df2['Borough'].values))\n",
    "print('size of df2: ',df2.shape)\n",
    "positions=[]\n",
    "for i in range(len(df2)):\n",
    "    if df2['Neighbourhood'].iloc[i]=='Not assigned':\n",
    "        positions.append(i)\n",
    "print('Before Modification',df2.iloc[positions])\n",
    "for i in range(len(df2)):\n",
    "    if df2['Neighbourhood'].iloc[i]=='Not assigned':\n",
    "        df2['Neighbourhood'].iloc[i]= df2['Borough'].iloc[i]\n",
    "print('After Modification',df2.iloc[positions])"
   ]
  },
  {
   "cell_type": "code",
   "execution_count": 43,
   "metadata": {},
   "outputs": [
    {
     "name": "stdout",
     "output_type": "stream",
     "text": [
      "  Postcode      Borough                           Neighbourhood\n",
      "0      M1B  Scarborough                          Rouge, Malvern\n",
      "1      M1C  Scarborough  Highland Creek, Rouge Hill, Port Union\n",
      "2      M1E  Scarborough       Guildwood, Morningside, West Hill\n",
      "3      M1G  Scarborough                                  Woburn\n",
      "4      M1H  Scarborough                               Cedarbrae\n",
      "(103, 3)\n",
      "Index(['Postcode', 'Borough', 'Neighbourhood'], dtype='object')\n"
     ]
    }
   ],
   "source": [
    "gropus_by_Postcode=df2.groupby(by='Postcode')\n",
    "postcode=[]\n",
    "borough=[]\n",
    "neig=[]\n",
    "for name,value in gropus_by_Postcode:\n",
    "    postcode.append(value['Postcode'].iloc[0])\n",
    "    borough.append(value['Borough'].iloc[0])\n",
    "    neig.append(', '.join(value['Neighbourhood']))\n",
    "df3=pd.DataFrame({'Postcode':postcode,'Borough':borough,'Neighbourhood':neig})\n",
    "print(df3.head())\n",
    "print(df3.shape)\n",
    "print(df3.columns)"
   ]
  },
  {
   "cell_type": "markdown",
   "metadata": {},
   "source": [
    "### Checking that the raws showed on the excerices explanation have the same values of my dataset"
   ]
  },
  {
   "cell_type": "code",
   "execution_count": 47,
   "metadata": {},
   "outputs": [
    {
     "data": {
      "text/html": [
       "<div>\n",
       "<style scoped>\n",
       "    .dataframe tbody tr th:only-of-type {\n",
       "        vertical-align: middle;\n",
       "    }\n",
       "\n",
       "    .dataframe tbody tr th {\n",
       "        vertical-align: top;\n",
       "    }\n",
       "\n",
       "    .dataframe thead th {\n",
       "        text-align: right;\n",
       "    }\n",
       "</style>\n",
       "<table border=\"1\" class=\"dataframe\">\n",
       "  <thead>\n",
       "    <tr style=\"text-align: right;\">\n",
       "      <th></th>\n",
       "      <th>Postcode</th>\n",
       "      <th>Borough</th>\n",
       "      <th>Neighbourhood</th>\n",
       "    </tr>\n",
       "  </thead>\n",
       "  <tbody>\n",
       "    <tr>\n",
       "      <th>0</th>\n",
       "      <td>M1B</td>\n",
       "      <td>Scarborough</td>\n",
       "      <td>Rouge, Malvern</td>\n",
       "    </tr>\n",
       "    <tr>\n",
       "      <th>5</th>\n",
       "      <td>M1J</td>\n",
       "      <td>Scarborough</td>\n",
       "      <td>Scarborough Village</td>\n",
       "    </tr>\n",
       "    <tr>\n",
       "      <th>11</th>\n",
       "      <td>M1R</td>\n",
       "      <td>Scarborough</td>\n",
       "      <td>Maryvale, Wexford</td>\n",
       "    </tr>\n",
       "    <tr>\n",
       "      <th>17</th>\n",
       "      <td>M2H</td>\n",
       "      <td>North York</td>\n",
       "      <td>Hillcrest Village</td>\n",
       "    </tr>\n",
       "    <tr>\n",
       "      <th>35</th>\n",
       "      <td>M4B</td>\n",
       "      <td>East York</td>\n",
       "      <td>Woodbine Gardens, Parkview Hill</td>\n",
       "    </tr>\n",
       "    <tr>\n",
       "      <th>38</th>\n",
       "      <td>M4G</td>\n",
       "      <td>East York</td>\n",
       "      <td>Leaside</td>\n",
       "    </tr>\n",
       "    <tr>\n",
       "      <th>43</th>\n",
       "      <td>M4M</td>\n",
       "      <td>East Toronto</td>\n",
       "      <td>Studio District</td>\n",
       "    </tr>\n",
       "    <tr>\n",
       "      <th>53</th>\n",
       "      <td>M5A</td>\n",
       "      <td>Downtown Toronto</td>\n",
       "      <td>Harbourfront, Regent Park</td>\n",
       "    </tr>\n",
       "    <tr>\n",
       "      <th>57</th>\n",
       "      <td>M5G</td>\n",
       "      <td>Downtown Toronto</td>\n",
       "      <td>Central Bay Street</td>\n",
       "    </tr>\n",
       "    <tr>\n",
       "      <th>68</th>\n",
       "      <td>M5V</td>\n",
       "      <td>Downtown Toronto</td>\n",
       "      <td>CN Tower, Bathurst Quay, Island airport, Harbo...</td>\n",
       "    </tr>\n",
       "    <tr>\n",
       "      <th>96</th>\n",
       "      <td>M9L</td>\n",
       "      <td>North York</td>\n",
       "      <td>Humber Summit</td>\n",
       "    </tr>\n",
       "    <tr>\n",
       "      <th>101</th>\n",
       "      <td>M9V</td>\n",
       "      <td>Etobicoke</td>\n",
       "      <td>Albion Gardens, Beaumond Heights, Humbergate, ...</td>\n",
       "    </tr>\n",
       "  </tbody>\n",
       "</table>\n",
       "</div>"
      ],
      "text/plain": [
       "    Postcode           Borough  \\\n",
       "0        M1B       Scarborough   \n",
       "5        M1J       Scarborough   \n",
       "11       M1R       Scarborough   \n",
       "17       M2H        North York   \n",
       "35       M4B         East York   \n",
       "38       M4G         East York   \n",
       "43       M4M      East Toronto   \n",
       "53       M5A  Downtown Toronto   \n",
       "57       M5G  Downtown Toronto   \n",
       "68       M5V  Downtown Toronto   \n",
       "96       M9L        North York   \n",
       "101      M9V         Etobicoke   \n",
       "\n",
       "                                         Neighbourhood  \n",
       "0                                       Rouge, Malvern  \n",
       "5                                  Scarborough Village  \n",
       "11                                   Maryvale, Wexford  \n",
       "17                                   Hillcrest Village  \n",
       "35                     Woodbine Gardens, Parkview Hill  \n",
       "38                                             Leaside  \n",
       "43                                     Studio District  \n",
       "53                           Harbourfront, Regent Park  \n",
       "57                                  Central Bay Street  \n",
       "68   CN Tower, Bathurst Quay, Island airport, Harbo...  \n",
       "96                                       Humber Summit  \n",
       "101  Albion Gardens, Beaumond Heights, Humbergate, ...  "
      ]
     },
     "execution_count": 47,
     "metadata": {},
     "output_type": "execute_result"
    }
   ],
   "source": [
    "df3[df3['Postcode'].isin(['M5G','M2H','M4B','M1J','M4G','M4M','M1R','M9V','M9L','M5V','M1B','M5A'])]"
   ]
  },
  {
   "cell_type": "markdown",
   "metadata": {},
   "source": [
    "## Shape of the Data Frame"
   ]
  },
  {
   "cell_type": "code",
   "execution_count": 48,
   "metadata": {},
   "outputs": [
    {
     "data": {
      "text/plain": [
       "(103, 3)"
      ]
     },
     "execution_count": 48,
     "metadata": {},
     "output_type": "execute_result"
    }
   ],
   "source": [
    "df3.shape"
   ]
  },
  {
   "cell_type": "code",
   "execution_count": null,
   "metadata": {},
   "outputs": [],
   "source": []
  }
 ],
 "metadata": {
  "kernelspec": {
   "display_name": "Python 3",
   "language": "python",
   "name": "python3"
  },
  "language_info": {
   "codemirror_mode": {
    "name": "ipython",
    "version": 3
   },
   "file_extension": ".py",
   "mimetype": "text/x-python",
   "name": "python",
   "nbconvert_exporter": "python",
   "pygments_lexer": "ipython3",
   "version": "3.7.1"
  }
 },
 "nbformat": 4,
 "nbformat_minor": 2
}
